{
 "cells": [
  {
   "cell_type": "code",
   "execution_count": 1,
   "id": "fd8787ec-032c-485c-b7d2-6f3346dec603",
   "metadata": {},
   "outputs": [],
   "source": [
    "from hr_assistant.core.document_processor import DocumentProcessor\n",
    "from hr_assistant.core.information_retriever import InformationRetriever\n",
    "from hr_assistant.core.config import load_config"
   ]
  },
  {
   "cell_type": "code",
   "execution_count": 2,
   "id": "66834718-7d67-4025-95e3-e10a3f1ab997",
   "metadata": {},
   "outputs": [],
   "source": [
    "config_path = \"../configs/params.yml\"\n",
    "query = \"What is Nestle looking for in an employee ?\""
   ]
  },
  {
   "cell_type": "code",
   "execution_count": 3,
   "id": "11b5636b-0b85-4894-adcb-9fdeb1232761",
   "metadata": {},
   "outputs": [],
   "source": [
    "params = load_config(config_path=config_path)"
   ]
  },
  {
   "cell_type": "code",
   "execution_count": 4,
   "id": "bab2f169-d4e8-453a-b09d-b932c51b0cff",
   "metadata": {},
   "outputs": [],
   "source": [
    "document_processor = DocumentProcessor(\n",
    "    text_splitter_chunk_size=params[\"text_splitter_chunk_size\"],\n",
    "    text_splitter_chunk_overlap=params[\"text_splitter_chunk_overlap\"],\n",
    "    text_splitter_separators=params[\"text_splitter_separators\"],\n",
    ")\n",
    "\n",
    "document = document_processor.load_document(params[\"document_path\"])\n",
    "processed_document = document_processor.process_document(document=document)"
   ]
  },
  {
   "cell_type": "code",
   "execution_count": 5,
   "id": "1771935f-39e2-4c00-b1f3-5f84f922c575",
   "metadata": {},
   "outputs": [],
   "source": [
    "information_retriever = InformationRetriever(\n",
    "    llm_model_name=params[\"llm_model_name\"],\n",
    "    documents=processed_document,\n",
    "    embedding_path=params[\"embedding_path\"],\n",
    ")"
   ]
  },
  {
   "cell_type": "code",
   "execution_count": 6,
   "id": "eca0b696-e94f-473c-a920-d7127bc49ed7",
   "metadata": {},
   "outputs": [],
   "source": [
    "response = information_retriever.retrieve_information(query)"
   ]
  },
  {
   "cell_type": "code",
   "execution_count": 7,
   "id": "567d5f80-dbfb-4fd9-82b2-b9f8779e4bbe",
   "metadata": {},
   "outputs": [
    {
     "data": {
      "text/plain": [
       "'Nestlé is looking for employees with personal attitudes and professional skills that enable them to develop a long-term relationship with the company.'"
      ]
     },
     "execution_count": 7,
     "metadata": {},
     "output_type": "execute_result"
    }
   ],
   "source": [
    "response"
   ]
  }
 ],
 "metadata": {
  "kernelspec": {
   "display_name": "Python 3 (ipykernel)",
   "language": "python",
   "name": "python3"
  },
  "language_info": {
   "codemirror_mode": {
    "name": "ipython",
    "version": 3
   },
   "file_extension": ".py",
   "mimetype": "text/x-python",
   "name": "python",
   "nbconvert_exporter": "python",
   "pygments_lexer": "ipython3",
   "version": "3.10.15"
  }
 },
 "nbformat": 4,
 "nbformat_minor": 5
}
